{
 "metadata": {
  "language_info": {
   "codemirror_mode": {
    "name": "ipython",
    "version": 3
   },
   "file_extension": ".py",
   "mimetype": "text/x-python",
   "name": "python",
   "nbconvert_exporter": "python",
   "pygments_lexer": "ipython3",
   "version": "3.7.4-final"
  },
  "orig_nbformat": 2,
  "kernelspec": {
   "name": "Python 3.7.4 64-bit ('env': venv)",
   "display_name": "Python 3.7.4 64-bit ('env': venv)",
   "metadata": {
    "interpreter": {
     "hash": "30f8cbdaeeacacb8e8029df4a044ad5719a4d310f43119d8b8f57aa2b4216357"
    }
   }
  }
 },
 "nbformat": 4,
 "nbformat_minor": 2,
 "cells": [
  {
   "source": [
    "## Using Long Short Term Memory (LSTM) neural networks for cryptocurrency price movement prediction"
   ],
   "cell_type": "markdown",
   "metadata": {}
  },
  {
   "cell_type": "code",
   "execution_count": 1,
   "metadata": {},
   "outputs": [],
   "source": [
    "import pandas as pd\n",
    "import numpy as np\n",
    "import matplotlib.pyplot as plt\n",
    "%matplotlib inline\n",
    "plt.style.use('fivethirtyeight')"
   ]
  },
  {
   "cell_type": "code",
   "execution_count": 2,
   "metadata": {},
   "outputs": [],
   "source": [
    "# Read the file in from device\n",
    "df = pd.read_csv('BTC_INR.csv')"
   ]
  },
  {
   "cell_type": "code",
   "execution_count": 3,
   "metadata": {},
   "outputs": [],
   "source": [
    "# Change the index to the date\n",
    "df = df.set_index(pd.DatetimeIndex(df['Date'].values)) \n",
    "df.index.name = 'Date'\n",
    "df.drop(columns=['Date'], inplace=True)"
   ]
  },
  {
   "cell_type": "code",
   "execution_count": 4,
   "metadata": {},
   "outputs": [
    {
     "output_type": "execute_result",
     "data": {
      "text/plain": [
       "                   Open         High          Low        Close    Adj Close  \\\n",
       "Date                                                                          \n",
       "2019-10-24  531125.5625  534905.8750  528807.6250  532109.6250  532109.6250   \n",
       "2019-10-25  531911.8125  615708.6875  529882.0625  613524.0625  613524.0625   \n",
       "2019-10-26  614011.1875  709940.3750  613660.1875  654913.8125  654913.8125   \n",
       "2019-10-27  654682.5000  690656.6250  645532.4375  676643.4375  676643.4375   \n",
       "2019-10-28  677591.8125  693664.0625  654827.1250  654827.1250  654827.1250   \n",
       "\n",
       "                  Volume  \n",
       "Date                      \n",
       "2019-10-24  1.155234e+12  \n",
       "2019-10-25  2.033467e+12  \n",
       "2019-10-26  3.152115e+12  \n",
       "2019-10-27  2.308897e+12  \n",
       "2019-10-28  2.189437e+12  "
      ],
      "text/html": "<div>\n<style scoped>\n    .dataframe tbody tr th:only-of-type {\n        vertical-align: middle;\n    }\n\n    .dataframe tbody tr th {\n        vertical-align: top;\n    }\n\n    .dataframe thead th {\n        text-align: right;\n    }\n</style>\n<table border=\"1\" class=\"dataframe\">\n  <thead>\n    <tr style=\"text-align: right;\">\n      <th></th>\n      <th>Open</th>\n      <th>High</th>\n      <th>Low</th>\n      <th>Close</th>\n      <th>Adj Close</th>\n      <th>Volume</th>\n    </tr>\n    <tr>\n      <th>Date</th>\n      <th></th>\n      <th></th>\n      <th></th>\n      <th></th>\n      <th></th>\n      <th></th>\n    </tr>\n  </thead>\n  <tbody>\n    <tr>\n      <th>2019-10-24</th>\n      <td>531125.5625</td>\n      <td>534905.8750</td>\n      <td>528807.6250</td>\n      <td>532109.6250</td>\n      <td>532109.6250</td>\n      <td>1.155234e+12</td>\n    </tr>\n    <tr>\n      <th>2019-10-25</th>\n      <td>531911.8125</td>\n      <td>615708.6875</td>\n      <td>529882.0625</td>\n      <td>613524.0625</td>\n      <td>613524.0625</td>\n      <td>2.033467e+12</td>\n    </tr>\n    <tr>\n      <th>2019-10-26</th>\n      <td>614011.1875</td>\n      <td>709940.3750</td>\n      <td>613660.1875</td>\n      <td>654913.8125</td>\n      <td>654913.8125</td>\n      <td>3.152115e+12</td>\n    </tr>\n    <tr>\n      <th>2019-10-27</th>\n      <td>654682.5000</td>\n      <td>690656.6250</td>\n      <td>645532.4375</td>\n      <td>676643.4375</td>\n      <td>676643.4375</td>\n      <td>2.308897e+12</td>\n    </tr>\n    <tr>\n      <th>2019-10-28</th>\n      <td>677591.8125</td>\n      <td>693664.0625</td>\n      <td>654827.1250</td>\n      <td>654827.1250</td>\n      <td>654827.1250</td>\n      <td>2.189437e+12</td>\n    </tr>\n  </tbody>\n</table>\n</div>"
     },
     "metadata": {},
     "execution_count": 4
    }
   ],
   "source": [
    "df.head()"
   ]
  },
  {
   "cell_type": "code",
   "execution_count": 6,
   "metadata": {},
   "outputs": [
    {
     "output_type": "execute_result",
     "data": {
      "text/plain": [
       "            Open  High  Low  Close  Adj Close  Volume\n",
       "Date                                                 \n",
       "2020-08-04   NaN   NaN  NaN    NaN        NaN     NaN"
      ],
      "text/html": "<div>\n<style scoped>\n    .dataframe tbody tr th:only-of-type {\n        vertical-align: middle;\n    }\n\n    .dataframe tbody tr th {\n        vertical-align: top;\n    }\n\n    .dataframe thead th {\n        text-align: right;\n    }\n</style>\n<table border=\"1\" class=\"dataframe\">\n  <thead>\n    <tr style=\"text-align: right;\">\n      <th></th>\n      <th>Open</th>\n      <th>High</th>\n      <th>Low</th>\n      <th>Close</th>\n      <th>Adj Close</th>\n      <th>Volume</th>\n    </tr>\n    <tr>\n      <th>Date</th>\n      <th></th>\n      <th></th>\n      <th></th>\n      <th></th>\n      <th></th>\n      <th></th>\n    </tr>\n  </thead>\n  <tbody>\n    <tr>\n      <th>2020-08-04</th>\n      <td>NaN</td>\n      <td>NaN</td>\n      <td>NaN</td>\n      <td>NaN</td>\n      <td>NaN</td>\n      <td>NaN</td>\n    </tr>\n  </tbody>\n</table>\n</div>"
     },
     "metadata": {},
     "execution_count": 6
    }
   ],
   "source": [
    "# Check of null values in the data\n",
    "filt = df['Open'].isnull()\n",
    "df[filt]"
   ]
  },
  {
   "cell_type": "code",
   "execution_count": 7,
   "metadata": {},
   "outputs": [],
   "source": [
    "# There is 1 day of missing values. Using linear interpolate to fill that value\n",
    "df = df.interpolate()"
   ]
  },
  {
   "cell_type": "code",
   "execution_count": 8,
   "metadata": {},
   "outputs": [
    {
     "output_type": "execute_result",
     "data": {
      "text/plain": [
       "                 Open          High           Low         Close     Adj Close  \\\n",
       "Date                                                                            \n",
       "2020-08-04  834176.75  872190.40625  831134.90625  861993.21875  861993.21875   \n",
       "\n",
       "                  Volume  \n",
       "Date                      \n",
       "2020-08-04  1.674818e+12  "
      ],
      "text/html": "<div>\n<style scoped>\n    .dataframe tbody tr th:only-of-type {\n        vertical-align: middle;\n    }\n\n    .dataframe tbody tr th {\n        vertical-align: top;\n    }\n\n    .dataframe thead th {\n        text-align: right;\n    }\n</style>\n<table border=\"1\" class=\"dataframe\">\n  <thead>\n    <tr style=\"text-align: right;\">\n      <th></th>\n      <th>Open</th>\n      <th>High</th>\n      <th>Low</th>\n      <th>Close</th>\n      <th>Adj Close</th>\n      <th>Volume</th>\n    </tr>\n    <tr>\n      <th>Date</th>\n      <th></th>\n      <th></th>\n      <th></th>\n      <th></th>\n      <th></th>\n      <th></th>\n    </tr>\n  </thead>\n  <tbody>\n    <tr>\n      <th>2020-08-04</th>\n      <td>834176.75</td>\n      <td>872190.40625</td>\n      <td>831134.90625</td>\n      <td>861993.21875</td>\n      <td>861993.21875</td>\n      <td>1.674818e+12</td>\n    </tr>\n  </tbody>\n</table>\n</div>"
     },
     "metadata": {},
     "execution_count": 8
    }
   ],
   "source": []
  },
  {
   "cell_type": "code",
   "execution_count": null,
   "metadata": {},
   "outputs": [],
   "source": []
  }
 ]
}