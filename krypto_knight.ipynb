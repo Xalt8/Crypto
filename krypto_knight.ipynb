{
 "metadata": {
  "language_info": {
   "codemirror_mode": {
    "name": "ipython",
    "version": 3
   },
   "file_extension": ".py",
   "mimetype": "text/x-python",
   "name": "python",
   "nbconvert_exporter": "python",
   "pygments_lexer": "ipython3",
   "version": "3.7.4-final"
  },
  "orig_nbformat": 2,
  "kernelspec": {
   "name": "Python 3.7.4 64-bit ('env': venv)",
   "display_name": "Python 3.7.4 64-bit ('env': venv)",
   "metadata": {
    "interpreter": {
     "hash": "30f8cbdaeeacacb8e8029df4a044ad5719a4d310f43119d8b8f57aa2b4216357"
    }
   }
  }
 },
 "nbformat": 4,
 "nbformat_minor": 2,
 "cells": [
  {
   "cell_type": "code",
   "execution_count": 33,
   "metadata": {},
   "outputs": [],
   "source": [
    "import requests\n",
    "from datetime import datetime\n",
    "import pandas as pd\n",
    "import numpy as np"
   ]
  },
  {
   "cell_type": "code",
   "execution_count": 17,
   "metadata": {},
   "outputs": [],
   "source": [
    "secret_key = '0aa8aadaddac9ab8bea299eef9c901aee8c25d4d6e19b5cde8a80341c717fe07'\n",
    "first_API_key = 'cdf943db37c03b3b4233868b0ae7cd2d07d051a5662754b3'"
   ]
  },
  {
   "cell_type": "code",
   "execution_count": 30,
   "metadata": {
    "tags": []
   },
   "outputs": [],
   "source": [
    "url = \"https://api.coindcx.com/exchange/ticker\"\n",
    "response = requests.get(url)\n",
    "data = response.json()"
   ]
  },
  {
   "source": [
    "Get the first value from the data object"
   ],
   "cell_type": "markdown",
   "metadata": {}
  },
  {
   "cell_type": "code",
   "execution_count": 131,
   "metadata": {},
   "outputs": [
    {
     "output_type": "execute_result",
     "data": {
      "text/plain": [
       "{'market': 'BTCINR',\n",
       " 'change_24_hour': '0.562',\n",
       " 'high': '984928.68',\n",
       " 'low': '962576.91',\n",
       " 'volume': '6741738.32173199606028528',\n",
       " 'last_price': '975398.42',\n",
       " 'bid': '975398.42000000',\n",
       " 'ask': '977490.58000000',\n",
       " 'timestamp': 1603460777}"
      ]
     },
     "metadata": {},
     "execution_count": 131
    }
   ],
   "source": [
    "data_dict = data[0]\n",
    "data_dict"
   ]
  },
  {
   "source": [
    "Convert the data_dict into a pandas dataframe"
   ],
   "cell_type": "markdown",
   "metadata": {}
  },
  {
   "cell_type": "code",
   "execution_count": 100,
   "metadata": {},
   "outputs": [
    {
     "output_type": "execute_result",
     "data": {
      "text/plain": [
       "   market change_24_hour       high        low                     volume  \\\n",
       "0  BTCINR          0.562  984928.68  962576.91  6741738.32173199606028528   \n",
       "\n",
       "  last_price              bid              ask   timestamp  \n",
       "0  975398.42  975398.42000000  977490.58000000  1603460777  "
      ],
      "text/html": "<div>\n<style scoped>\n    .dataframe tbody tr th:only-of-type {\n        vertical-align: middle;\n    }\n\n    .dataframe tbody tr th {\n        vertical-align: top;\n    }\n\n    .dataframe thead th {\n        text-align: right;\n    }\n</style>\n<table border=\"1\" class=\"dataframe\">\n  <thead>\n    <tr style=\"text-align: right;\">\n      <th></th>\n      <th>market</th>\n      <th>change_24_hour</th>\n      <th>high</th>\n      <th>low</th>\n      <th>volume</th>\n      <th>last_price</th>\n      <th>bid</th>\n      <th>ask</th>\n      <th>timestamp</th>\n    </tr>\n  </thead>\n  <tbody>\n    <tr>\n      <th>0</th>\n      <td>BTCINR</td>\n      <td>0.562</td>\n      <td>984928.68</td>\n      <td>962576.91</td>\n      <td>6741738.32173199606028528</td>\n      <td>975398.42</td>\n      <td>975398.42000000</td>\n      <td>977490.58000000</td>\n      <td>1603460777</td>\n    </tr>\n  </tbody>\n</table>\n</div>"
     },
     "metadata": {},
     "execution_count": 100
    }
   ],
   "source": [
    "df = pd.DataFrame([data_dict])\n",
    "df"
   ]
  },
  {
   "cell_type": "code",
   "execution_count": 123,
   "metadata": {},
   "outputs": [
    {
     "output_type": "execute_result",
     "data": {
      "text/plain": [
       "0    2020-10-23\n",
       "Name: timestamp, dtype: object"
      ]
     },
     "metadata": {},
     "execution_count": 123
    }
   ],
   "source": [
    "df['timestamp'].dt.date"
   ]
  },
  {
   "cell_type": "code",
   "execution_count": 124,
   "metadata": {},
   "outputs": [
    {
     "output_type": "execute_result",
     "data": {
      "text/plain": [
       "   market change_24_hour       high        low                     volume  \\\n",
       "0  BTCINR          0.562  984928.68  962576.91  6741738.32173199606028528   \n",
       "\n",
       "  last_price              bid              ask           timestamp  \n",
       "0  975398.42  975398.42000000  977490.58000000 2020-10-23 14:46:17  "
      ],
      "text/html": "<div>\n<style scoped>\n    .dataframe tbody tr th:only-of-type {\n        vertical-align: middle;\n    }\n\n    .dataframe tbody tr th {\n        vertical-align: top;\n    }\n\n    .dataframe thead th {\n        text-align: right;\n    }\n</style>\n<table border=\"1\" class=\"dataframe\">\n  <thead>\n    <tr style=\"text-align: right;\">\n      <th></th>\n      <th>market</th>\n      <th>change_24_hour</th>\n      <th>high</th>\n      <th>low</th>\n      <th>volume</th>\n      <th>last_price</th>\n      <th>bid</th>\n      <th>ask</th>\n      <th>timestamp</th>\n    </tr>\n  </thead>\n  <tbody>\n    <tr>\n      <th>0</th>\n      <td>BTCINR</td>\n      <td>0.562</td>\n      <td>984928.68</td>\n      <td>962576.91</td>\n      <td>6741738.32173199606028528</td>\n      <td>975398.42</td>\n      <td>975398.42000000</td>\n      <td>977490.58000000</td>\n      <td>2020-10-23 14:46:17</td>\n    </tr>\n  </tbody>\n</table>\n</div>"
     },
     "metadata": {},
     "execution_count": 124
    }
   ],
   "source": [
    "df"
   ]
  },
  {
   "cell_type": "code",
   "execution_count": 129,
   "metadata": {},
   "outputs": [
    {
     "output_type": "execute_result",
     "data": {
      "text/plain": [
       "10"
      ]
     },
     "metadata": {},
     "execution_count": 129
    }
   ],
   "source": [
    "df.timestamp[0]"
   ]
  },
  {
   "cell_type": "code",
   "execution_count": null,
   "metadata": {},
   "outputs": [],
   "source": []
  },
  {
   "cell_type": "code",
   "execution_count": null,
   "metadata": {},
   "outputs": [],
   "source": []
  },
  {
   "cell_type": "code",
   "execution_count": null,
   "metadata": {},
   "outputs": [],
   "source": []
  }
 ]
}